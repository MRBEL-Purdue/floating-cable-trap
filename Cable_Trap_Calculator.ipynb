{
 "cells": [
  {
   "cell_type": "markdown",
   "id": "b06430bf-c2b8-4321-add0-95ba45cb6623",
   "metadata": {},
   "source": [
    "# Floating Cable Trap Calculator\n",
    "\n",
    "Purdue University\n",
    "\n",
    "**Prerequisites (pip install or conda install)**\n",
    "* For Computation\n",
    "    * numpy\n",
    "    * matplotlib\n",
    "    * ipywidgets\n",
    "    * mplcursors\n",
    "* For Rendering\n",
    "    * ViewSCAD\n",
    "    * SolidPython\n",
    "    * OpenSCAD (Download executable from [https://openscad.org/](https://openscad.org/))\n",
    "\n",
    "Users of **JupyterLab** should follow the instructions of [https://github.com/nickc92/ViewSCAD](ViewSCAD) to successfully render the 3D files. **Jupyter Notebook** users should be okay."
   ]
  },
  {
   "cell_type": "markdown",
   "id": "9854e9a0-773b-40d2-b943-9d9525188273",
   "metadata": {},
   "source": [
    "Set the value of `plot_size` below, and then run all cells (`Run > Run All`).\n",
    "Adjust the values in the widgets, and the plot automatically updates."
   ]
  },
  {
   "cell_type": "code",
   "execution_count": 40,
   "id": "36444b32-f635-49ad-9622-b99846e3e796",
   "metadata": {},
   "outputs": [],
   "source": [
    "plot_size = (25, 15) # (width, height) in cm"
   ]
  },
  {
   "cell_type": "markdown",
   "id": "3c404ba5-7d0d-4276-aa34-3012a4bde5d9",
   "metadata": {},
   "source": [
    "**************************************************\n",
    "There is no need to edit any codes below."
   ]
  },
  {
   "cell_type": "code",
   "execution_count": 41,
   "id": "598b3935-7b2b-472b-a2fb-f85efd21eb82",
   "metadata": {
    "jupyter": {
     "source_hidden": true
    },
    "tags": [
     "hide-input"
    ]
   },
   "outputs": [],
   "source": [
    "# Imports packages\n",
    "import math\n",
    "import numpy as np\n",
    "import matplotlib.pyplot as plt\n",
    "import ipywidgets as widgets\n",
    "from IPython.display import display, clear_output\n",
    "from matplotlib.ticker import FormatStrFormatter\n",
    "import matplotlib.ticker as ticker\n",
    "import mplcursors # For interactive data points\n",
    "\n",
    "# For 3D generation\n",
    "import viewscad\n",
    "from solid import *\n",
    "from solid.utils import *  # Not required, but the utils module is useful"
   ]
  },
  {
   "cell_type": "code",
   "execution_count": 42,
   "id": "61c212d5-3966-4b46-ba15-6011d039272f",
   "metadata": {
    "jupyter": {
     "source_hidden": true
    },
    "tags": [
     "hide-input"
    ]
   },
   "outputs": [],
   "source": [
    "# Initialize Program, Run Once\n",
    "w = dict()\n",
    "\n",
    "# Universal constants\n",
    "epsilon_0 = 8.85e-12\n",
    "mu_0 = 4 * math.pi * 1e-7\n",
    "c_0 = 299792458\n",
    "\n",
    "# Initialize variables\n",
    "k=0\n",
    "mu_r=0\n",
    "a=0\n",
    "ct=0\n",
    "l=0\n",
    "f_target = 0\n",
    "epsilon = epsilon_0\n",
    "mu = mu_0\n",
    "a = 0\n",
    "C_T_limit = []\n",
    "C_T = []\n",
    "fig = []\n",
    "ax = []\n",
    "lengths=[]\n",
    "b_arr=[]\n",
    "\n",
    "# Define certain widgets\n",
    "out = widgets.Output(layout={'border': '1px solid black'})\n",
    "out.layout.height = '100%'\n",
    "\n",
    "file_name = widgets.Text( # Plot file name\n",
    "    value='file_name.png',\n",
    "    placeholder='Type something',\n",
    "    description='File Name:',\n",
    "    disabled=False   \n",
    ")\n",
    "file_name_csv = widgets.Text( # Plot file name\n",
    "    value='file_name.csv',\n",
    "    placeholder='Type something',\n",
    "    description='File Name:',\n",
    "    disabled=False   \n",
    ")\n",
    "\n",
    "# Define helper functions\n",
    "def signif(x, p):\n",
    "    x = np.asarray(x)\n",
    "    x_positive = np.where(np.isfinite(x) & (x != 0), np.abs(x), 10**(p-1))\n",
    "    mags = 10 ** (p - 1 - np.floor(np.log10(x_positive)))\n",
    "    return np.round(x * mags) / mags\n",
    "\n",
    "# Save values\n",
    "def save_constants():\n",
    "    global f_target, epsilon, mu, a\n",
    "    f_target = w['f'].value * 1000000\n",
    "    epsilon =  w['k'].value * epsilon_0\n",
    "    mu = w['mur'].value * mu_0\n",
    "    a = w['a'].value / 100\n",
    "\n",
    "def save_constraints_CT():\n",
    "    global length, C_T_limit, C_T\n",
    "    length = np.array(w['l'].value) / 100\n",
    "    C_T_limit = np.array(w['ct'].value) * 1E-12\n",
    "    C_T = np.linspace(C_T_limit[0], C_T_limit[1], 100)\n",
    "\n",
    "def update_values():\n",
    "    global out, fig, ax, file_name, lengths, b_arr, file_name_csv\n",
    "    save_constants()\n",
    "    save_constraints_CT()\n",
    "    with out: \n",
    "        out.clear_output()\n",
    "        print(f\"f={w['f'].value} MHz, K={w['k'].value}, mu_r={w['mur'].value}, a={w['a'].value} cm\")\n",
    "        print(f\"Plotting values of C_T between {w['ct'].value[0]}-{w['ct'].value[1]} pF\")\n",
    "        print(f\"and lengths between {w['l'].value[0]}-{w['l'].value[1]} cm\") \n",
    "        print(\"Optimal design is at maximum b\")\n",
    "        fig, ax, lengths, _, b_arr = plot_b_CT()\n",
    "        print(\"Legend - Trap Lengths (cm):\")\n",
    "        print(np.linspace(length[0], length[1],w['n(l)'].value)*100)\n",
    "    file_name.value = f\"a={w['a'].value}_ct={w['ct'].value[0]}-{w['ct'].value[1]}_len={w['l'].value[0]}-{w['l'].value[1]}_K={w['k'].value}.png\"\n",
    "    file_name_csv.value = file_name.value[:-3] + \"csv\"\n",
    "# Plot\n",
    "def plot_b_CT():\n",
    "    # b vs CT for multiple lengths\n",
    "    global f_target, C_T, mu, epsilon, length\n",
    "    b_arr = []\n",
    "    lengths = np.linspace(length[0], length[1],w['n(l)'].value)\n",
    "    fig, ax = plt.subplots(1, 1, figsize=(plot_size[0]/2.54, plot_size[1]/2.54))\n",
    "    for l in lengths:\n",
    "        b_arr.append( a * np.exp((1/(2*math.pi*f_target**2*l*C_T*mu)) - ((2*math.pi*l*epsilon)/(C_T))))\n",
    "        ax.plot(C_T*1E12, b_arr[-1]*100, label=str(signif(l*100, 2))+\" cm\")\n",
    "    \n",
    "    plt.grid(True, which=\"both\", ls=\"--\")\n",
    "    plt.xlabel('$C_T$ Tuning Capacitance (pF)')\n",
    "    plt.ylabel('$b$ Outer Radius (cm)')\n",
    "    plt.legend(bbox_to_anchor=(1, 0), loc=\"lower right\",\n",
    "                bbox_transform=fig.transFigure, ncol=1)\n",
    "    plt.legend(bbox_to_anchor=(1.03, 0.5), loc=\"center left\", borderaxespad=0, title = \"Trap length\")\n",
    "    plt.tight_layout(rect=[0, 0, 0.95, 1])\n",
    "    mplcursors.cursor(hover=True)\n",
    "    plt.show()\n",
    "    return fig, ax, lengths, C_T, b_arr\n",
    "def save_plot():\n",
    "    plt.savefig('filename.ext', bbox_inches='tight')"
   ]
  },
  {
   "cell_type": "code",
   "execution_count": 43,
   "id": "b3cfe2c3-7618-4a8f-9ff7-de999be0773d",
   "metadata": {
    "tags": [
     "hide-input"
    ]
   },
   "outputs": [
    {
     "name": "stdout",
     "output_type": "stream",
     "text": [
      "Plot updates automatically\n",
      "\u001b[31mConstants\u001b[30m\n",
      "Input: Larmor Frequency in MHz\n"
     ]
    },
    {
     "data": {
      "application/vnd.jupyter.widget-view+json": {
       "model_id": "30678ea009204d9fbc81a272d10ac194",
       "version_major": 2,
       "version_minor": 0
      },
      "text/plain": [
       "BoundedFloatText(value=128.0, description='f in MHz', max=500.0, min=50.0, step=1.0)"
      ]
     },
     "metadata": {},
     "output_type": "display_data"
    },
    {
     "name": "stdout",
     "output_type": "stream",
     "text": [
      "Input: Dielectric Constant of Core Material/Substrate\n"
     ]
    },
    {
     "data": {
      "application/vnd.jupyter.widget-view+json": {
       "model_id": "e09688c1b0474ef4a5625f3a1ddedeb4",
       "version_major": 2,
       "version_minor": 0
      },
      "text/plain": [
       "BoundedFloatText(value=2.0, description='K', max=10.0, step=0.01)"
      ]
     },
     "metadata": {},
     "output_type": "display_data"
    },
    {
     "name": "stdout",
     "output_type": "stream",
     "text": [
      "Input: Relative Permeability of Core Material/Substrate\n",
      "\t(Hint: It is usually very close to = 1 for non-ferromagnetic materials)\n"
     ]
    },
    {
     "data": {
      "application/vnd.jupyter.widget-view+json": {
       "model_id": "99793202035948a18d99beca13c40771",
       "version_major": 2,
       "version_minor": 0
      },
      "text/plain": [
       "BoundedFloatText(value=1.0, description='mu_r', max=5.0, step=0.001)"
      ]
     },
     "metadata": {},
     "output_type": "display_data"
    },
    {
     "name": "stdout",
     "output_type": "stream",
     "text": [
      "Input: Inner Diameter (cm)\n",
      "\t(Hint: Inner diameter should closely-fit the cables)\n"
     ]
    },
    {
     "data": {
      "application/vnd.jupyter.widget-view+json": {
       "model_id": "b8739b566c1b4e9b8c9001189dba5451",
       "version_major": 2,
       "version_minor": 0
      },
      "text/plain": [
       "BoundedFloatText(value=0.95, description='a in cm', max=50.0, step=0.01)"
      ]
     },
     "metadata": {},
     "output_type": "display_data"
    },
    {
     "name": "stdout",
     "output_type": "stream",
     "text": [
      "\u001b[31mConstraints\u001b[30m\n",
      "Design Constraints\n",
      "\tYou can type the number or drag the slider bar\n",
      " ------------------------------------------------------------\n",
      "Input: Range of Tuning Capacitances that your lab has (in pF picoFarads)\n",
      "\t(Hint: You can tune using capacitors in series. Input the total acceptable capacitance)\n"
     ]
    },
    {
     "data": {
      "application/vnd.jupyter.widget-view+json": {
       "model_id": "228a12b0198c41ec9c692e122292d6a6",
       "version_major": 2,
       "version_minor": 0
      },
      "text/plain": [
       "FloatRangeSlider(value=(50.0, 300.0), continuous_update=False, description='C_T in pF', max=1000.0, step=0.001…"
      ]
     },
     "metadata": {},
     "output_type": "display_data"
    },
    {
     "name": "stdout",
     "output_type": "stream",
     "text": [
      "\n",
      "Input: Range of acceptable cable trap length (in cm)\n"
     ]
    },
    {
     "data": {
      "application/vnd.jupyter.widget-view+json": {
       "model_id": "fcc35140dc344a9eae042fe13d4da6b3",
       "version_major": 2,
       "version_minor": 0
      },
      "text/plain": [
       "FloatRangeSlider(value=(6.0, 15.0), continuous_update=False, description='L in cm', max=30.0, step=0.001)"
      ]
     },
     "metadata": {},
     "output_type": "display_data"
    },
    {
     "name": "stdout",
     "output_type": "stream",
     "text": [
      "\n",
      "Input: Number of lengths to plot\n"
     ]
    },
    {
     "data": {
      "application/vnd.jupyter.widget-view+json": {
       "model_id": "c54edb5a8f16481cae5c22e7c8c23b4c",
       "version_major": 2,
       "version_minor": 0
      },
      "text/plain": [
       "IntSlider(value=10, continuous_update=False, description='num(length)', max=50)"
      ]
     },
     "metadata": {},
     "output_type": "display_data"
    },
    {
     "name": "stdout",
     "output_type": "stream",
     "text": [
      "Update graph (if not auto updated)\n"
     ]
    },
    {
     "data": {
      "application/vnd.jupyter.widget-view+json": {
       "model_id": "3c9b4ca5d2584be1975ea6aa73e770a5",
       "version_major": 2,
       "version_minor": 0
      },
      "text/plain": [
       "Button(description='Update Graph', icon='warning', style=ButtonStyle())"
      ]
     },
     "metadata": {},
     "output_type": "display_data"
    },
    {
     "data": {
      "application/vnd.jupyter.widget-view+json": {
       "model_id": "d5c5209edafd408fbb4417899e867f87",
       "version_major": 2,
       "version_minor": 0
      },
      "text/plain": [
       "Output(layout=Layout(border_bottom='1px solid black', border_left='1px solid black', border_right='1px solid b…"
      ]
     },
     "metadata": {},
     "output_type": "display_data"
    }
   ],
   "source": [
    "# Run this block once, and adjust parameters in the output. \n",
    "# Values update automatically, No need to run again. \n",
    "%matplotlib widget\n",
    "\n",
    "# Design Constants\n",
    "w['f'] = widgets.BoundedFloatText(\n",
    "    value=128,\n",
    "    min=50,\n",
    "    max=500,\n",
    "    step=1,\n",
    "    description='f in MHz',\n",
    "    disabled=False\n",
    ")\n",
    "w['k'] = widgets.BoundedFloatText(\n",
    "    value=2.0,\n",
    "    min=0,\n",
    "    max=10.0,\n",
    "    step=0.01,\n",
    "    description='K',\n",
    "    disabled=False\n",
    ")\n",
    "w['mur'] = widgets.BoundedFloatText(\n",
    "    value=1.0,\n",
    "    min=0,\n",
    "    max=5.0,\n",
    "    step=0.001,\n",
    "    description='mu_r',\n",
    "    disabled=False\n",
    ")\n",
    "w['a'] = widgets.BoundedFloatText(\n",
    "    value=0.95,\n",
    "    min=0,\n",
    "    max=50,\n",
    "    step=0.01,\n",
    "    description='a in cm',\n",
    "    disabled=False\n",
    ")\n",
    "print(\"Plot updates automatically\")\n",
    "print(\"\\u001b[31mConstants\\u001b[30m\")\n",
    "print('Input: Larmor Frequency in MHz')\n",
    "display(w['f'])\n",
    "print('Input: Dielectric Constant of Core Material/Substrate')\n",
    "display(w['k'])\n",
    "print('Input: Relative Permeability of Core Material/Substrate')\n",
    "print(\"\\t(Hint: It is usually very close to = 1 for non-ferromagnetic materials)\")\n",
    "display(w['mur'])\n",
    "print('Input: Inner Diameter (cm)\\n\\t(Hint: Inner diameter should closely-fit the cables)')\n",
    "display(w['a'])\n",
    "\n",
    "# Design Constraints\n",
    "print(\"\\u001b[31mConstraints\\u001b[30m\")\n",
    "print(\"Design Constraints\\n\\tYou can type the number or drag the slider bar\\n\",\"-\"*60)\n",
    "\n",
    "w['ct'] = widgets.FloatRangeSlider(\n",
    "    value=[50, 300],\n",
    "    min=0,\n",
    "    max=1000.0,\n",
    "    step=0.001,\n",
    "    description='C_T in pF',\n",
    "    disabled=False,\n",
    "    continuous_update=False,\n",
    "    orientation='horizontal',\n",
    "    readout=True,\n",
    "    readout_format='.2f',\n",
    ")\n",
    "\n",
    "w['l'] = widgets.FloatRangeSlider(\n",
    "    value=[6, 15],\n",
    "    min=0,\n",
    "    max=30.0,\n",
    "    step=0.001,\n",
    "    description='L in cm',\n",
    "    disabled=False,\n",
    "    continuous_update=False,\n",
    "    orientation='horizontal',\n",
    "    readout=True,\n",
    "    readout_format='.2f',\n",
    ")\n",
    "\n",
    "w['n(l)'] = widgets.IntSlider(\n",
    "    value=10,\n",
    "    min=0,\n",
    "    max=50,\n",
    "    step=1,\n",
    "    description='num(length)',\n",
    "    disabled=False,\n",
    "    continuous_update=False,\n",
    "    orientation='horizontal',\n",
    "    readout=True,\n",
    "    readout_format='d'\n",
    ")\n",
    "\n",
    "print(\"Input: Range of Tuning Capacitances that your lab has (in pF picoFarads)\")\n",
    "print(\"\\t(Hint: You can tune using capacitors in series. Input the total acceptable capacitance)\")\n",
    "display(w['ct'])\n",
    "\n",
    "print(\"\\nInput: Range of acceptable cable trap length (in cm)\")\n",
    "display(w['l'])\n",
    "\n",
    "print(\"\\nInput: Number of lengths to plot\")\n",
    "display(w['n(l)'])\n",
    "\n",
    "# Reset plot\n",
    "print(\"Update graph (if not auto updated)\")\n",
    "force_update = widgets.Button(\n",
    "    description='Update Graph',\n",
    "    disabled=False,\n",
    "    button_style='', # 'success', 'info', 'warning', 'danger' or ''\n",
    "    icon='warning' # (FontAwesome names without the `fa-` prefix)\n",
    ")\n",
    "display(force_update)\n",
    "force_update.on_click(lambda b : update_values())\n",
    "\n",
    "# Detects changes in parameters and saves\n",
    "for i in w:\n",
    "    w[i].observe(lambda b: update_values(), 'value')\n",
    "display(out)\n",
    "with out: update_values() # Initializes variables\n",
    "\n"
   ]
  },
  {
   "cell_type": "code",
   "execution_count": 44,
   "id": "3c6dc482-db58-4d10-b58a-eac9ba958141",
   "metadata": {
    "jupyter": {
     "source_hidden": true
    }
   },
   "outputs": [
    {
     "name": "stdout",
     "output_type": "stream",
     "text": [
      "Save plot: Supports images (jpg/png/tif), pdf, svg\n"
     ]
    },
    {
     "data": {
      "application/vnd.jupyter.widget-view+json": {
       "model_id": "6bed9789207644ff994654eccea73499",
       "version_major": 2,
       "version_minor": 0
      },
      "text/plain": [
       "Text(value='a=0.95_ct=50.0-300.0_len=6.0-15.0_K=2.0.png', description='File Name:', placeholder='Type somethin…"
      ]
     },
     "metadata": {},
     "output_type": "display_data"
    },
    {
     "data": {
      "application/vnd.jupyter.widget-view+json": {
       "model_id": "18c63695674842fe94f10bf62c1629b5",
       "version_major": 2,
       "version_minor": 0
      },
      "text/plain": [
       "Button(button_style='success', description='Save plot', icon='save', style=ButtonStyle())"
      ]
     },
     "metadata": {},
     "output_type": "display_data"
    }
   ],
   "source": [
    "save_button = widgets.Button(\n",
    "    description='Save plot',\n",
    "    disabled=False,\n",
    "    button_style='success', # 'success', 'info', 'warning', 'danger' or ''\n",
    "    icon='save' # (FontAwesome names without the `fa-` prefix)\n",
    ")\n",
    "\n",
    "print(\"Save plot: Supports images (jpg/png/tif), pdf, svg\")\n",
    "display(file_name)\n",
    "display(save_button)\n",
    "save_button.on_click(lambda b : fig.savefig(file_name.value))\n",
    "\n"
   ]
  },
  {
   "cell_type": "code",
   "execution_count": 45,
   "id": "c60764c1-65df-44ab-a967-e85e2df9a1a9",
   "metadata": {
    "jupyter": {
     "source_hidden": true
    }
   },
   "outputs": [
    {
     "name": "stdout",
     "output_type": "stream",
     "text": [
      "Save raw data as csv:\n"
     ]
    },
    {
     "data": {
      "application/vnd.jupyter.widget-view+json": {
       "model_id": "f19a57d1c45f47908c98de9063f35917",
       "version_major": 2,
       "version_minor": 0
      },
      "text/plain": [
       "Text(value='a=0.95_ct=50.0-300.0_len=6.0-15.0_K=2.0.csv', description='File Name:', placeholder='Type somethin…"
      ]
     },
     "metadata": {},
     "output_type": "display_data"
    },
    {
     "data": {
      "application/vnd.jupyter.widget-view+json": {
       "model_id": "82c4d249814d43729b6f85099b39b886",
       "version_major": 2,
       "version_minor": 0
      },
      "text/plain": [
       "Button(button_style='success', description='Save csv', icon='save', style=ButtonStyle())"
      ]
     },
     "metadata": {},
     "output_type": "display_data"
    }
   ],
   "source": [
    "def save_csv():\n",
    "    global C_T, b_arr, lengths, w, file_name_csv\n",
    "    raw_data = np.transpose(np.vstack((C_T, np.array(b_arr))))\n",
    "    # Includes parameters in csv\n",
    "    comments = \"\"\n",
    "    for i in w:\n",
    "        comments = comments + str(i) + \"=\" + str(w[i].value) + \", \"\n",
    "    comments = comments + \" -- Columns=(C_T, b, b, b, ...), b for each length --\"\n",
    "    # Header\n",
    "    headers = \"CT\"\n",
    "    for l in lengths:\n",
    "        headers = headers + \",\" + str(l)\n",
    "    np.savetxt(file_name_csv.value, raw_data, delimiter= ',', header = headers, footer = comments)\n",
    "\n",
    "print(\"Save raw data as csv:\")\n",
    "save_csv_button = widgets.Button(\n",
    "    description='Save csv',\n",
    "    disabled=False,\n",
    "    button_style='success', # 'success', 'info', 'warning', 'danger' or ''\n",
    "    icon='save' # (FontAwesome names without the `fa-` prefix)\n",
    ")\n",
    "save_csv_button.on_click(lambda b : save_csv())\n",
    "display(file_name_csv)\n",
    "display(save_csv_button)"
   ]
  },
  {
   "cell_type": "code",
   "execution_count": 46,
   "id": "374f3d84-1cd5-4a10-b596-a55a74bc18c0",
   "metadata": {},
   "outputs": [
    {
     "name": "stderr",
     "output_type": "stream",
     "text": [
      "Geometries in cache: 9\n",
      "Geometry cache size in bytes: 22680\n",
      "CGAL Polyhedrons in cache: 12\n",
      "CGAL cache size in bytes: 1822624\n",
      "Total rendering time: 0:00:00.531\n",
      "Top level object is a 3D object:\n",
      "   Simple:        yes\n",
      "   Vertices:      308\n",
      "   Halfedges:     924\n",
      "   Edges:         462\n",
      "   Halffacets:    304\n",
      "   Facets:        152\n",
      "   Volumes:         2\n"
     ]
    },
    {
     "data": {
      "application/vnd.jupyter.widget-view+json": {
       "model_id": "d710af6311d44bb19537e0856859422c",
       "version_major": 2,
       "version_minor": 0
      },
      "text/plain": [
       "VBox(children=(HTML(value=''), Renderer(background='#cccc88', background_opacity=0.0, camera=PerspectiveCamera…"
      ]
     },
     "metadata": {},
     "output_type": "display_data"
    },
    {
     "name": "stdout",
     "output_type": "stream",
     "text": [
      "Use your mouse to rotate and zoom. Drag rotates the view; Control + drag translates the view.\n",
      "Units: mm\n"
     ]
    }
   ],
   "source": [
    "outer_radius = 20\n",
    "length = 100\n",
    "inner_radius = 9.5\n",
    "hole_rad = 2.5\n",
    "head_height = 2.75*1.1\n",
    "head_diam = 9.5\n",
    "num_hole = 2\n",
    "\n",
    "d = difference() (\n",
    "  cylinder(r=outer_radius, h=length),\n",
    "  \n",
    "  translate([(outer_radius+length)*2,0,0])(\n",
    "      cube((outer_radius+length)*4, center=True)\n",
    "  ),\n",
    "      translate([0,0,-1])(\n",
    "      cylinder(r=inner_radius, h=length*2)\n",
    "      )\n",
    ")\n",
    "\n",
    "\n",
    "\n",
    "for i in range(num_hole):\n",
    "    x = i*length/num_hole + length/(2*num_hole)\n",
    "    screw1 = translate([outer_radius-head_height-math.sqrt(3)*outer_radius,0,x])(rotate([0,90,0])(translate([0,(outer_radius + inner_radius) / 2,0])(translate([0,0,head_height])(cylinder(r=hole_rad, h=outer_radius)) + translate([0,0,-head_height])(cylinder(d=head_diam, h=head_height*2)))))\n",
    "    screw2 = translate([outer_radius-head_height-math.sqrt(3)*outer_radius,0,x])(rotate([0,90,0])(translate([0,-(outer_radius + inner_radius) / 2,0])(translate([0,0,head_height])(cylinder(r=hole_rad, h=outer_radius)) + translate([0,0,-head_height])(cylinder(d=head_diam, h=head_height*2)))))\n",
    "    d = d - (screw1 + screw2)\n",
    "\n",
    "r = viewscad.Renderer()\n",
    "r.render(d)\n",
    "\n",
    "\n",
    "print(\"Use your mouse to rotate and zoom. Drag rotates the view; Control + drag translates the view.\")\n",
    "print(\"Units: mm\")\n",
    "\n",
    "# If this line fails to run, it means Python could not find your openSCAD executable.\n",
    "# Edit this line to include your openscad executable. Check viewSCAD documentation.\n",
    "#     e.g.  renderer = viewscad.Renderer(openscad_exec='path_of_my_openscad')\n",
    "# stl_file_name = file_name.value[:3]+\"stl\"\n",
    "# r = viewscad.Renderer(outfile=stl_file_name)\n",
    "# r.render(d)"
   ]
  }
 ],
 "metadata": {
  "celltoolbar": "Raw Cell Format",
  "kernelspec": {
   "display_name": "Python 3 (ipykernel)",
   "language": "python",
   "name": "python3"
  },
  "language_info": {
   "codemirror_mode": {
    "name": "ipython",
    "version": 3
   },
   "file_extension": ".py",
   "mimetype": "text/x-python",
   "name": "python",
   "nbconvert_exporter": "python",
   "pygments_lexer": "ipython3",
   "version": "3.9.15"
  }
 },
 "nbformat": 4,
 "nbformat_minor": 5
}
